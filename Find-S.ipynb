{
 "cells": [
  {
   "cell_type": "code",
   "execution_count": 1,
   "id": "18394ba4",
   "metadata": {},
   "outputs": [],
   "source": [
    "from pandas import *\n",
    "import numpy"
   ]
  },
  {
   "cell_type": "code",
   "execution_count": 35,
   "id": "38fa94e8",
   "metadata": {
    "scrolled": false
   },
   "outputs": [],
   "source": [
    "data=read_csv(\"C:\\\\Users\\\\exam2\\\\Downloads\\\\ENJOYSPORT.csv\")"
   ]
  },
  {
   "cell_type": "code",
   "execution_count": 46,
   "id": "cb6a3730",
   "metadata": {},
   "outputs": [
    {
     "data": {
      "text/html": [
       "<div>\n",
       "<style scoped>\n",
       "    .dataframe tbody tr th:only-of-type {\n",
       "        vertical-align: middle;\n",
       "    }\n",
       "\n",
       "    .dataframe tbody tr th {\n",
       "        vertical-align: top;\n",
       "    }\n",
       "\n",
       "    .dataframe thead th {\n",
       "        text-align: right;\n",
       "    }\n",
       "</style>\n",
       "<table border=\"1\" class=\"dataframe\">\n",
       "  <thead>\n",
       "    <tr style=\"text-align: right;\">\n",
       "      <th></th>\n",
       "      <th>Sky</th>\n",
       "      <th>AirTemp</th>\n",
       "      <th>Humidity</th>\n",
       "      <th>Wind</th>\n",
       "      <th>Water</th>\n",
       "      <th>Forecast</th>\n",
       "      <th>EnjoySport</th>\n",
       "    </tr>\n",
       "  </thead>\n",
       "  <tbody>\n",
       "    <tr>\n",
       "      <th>0</th>\n",
       "      <td>Sunny</td>\n",
       "      <td>Warm</td>\n",
       "      <td>Normal</td>\n",
       "      <td>Strong</td>\n",
       "      <td>Warm</td>\n",
       "      <td>Same</td>\n",
       "      <td>1</td>\n",
       "    </tr>\n",
       "    <tr>\n",
       "      <th>1</th>\n",
       "      <td>Sunny</td>\n",
       "      <td>Warm</td>\n",
       "      <td>High</td>\n",
       "      <td>Strong</td>\n",
       "      <td>Warm</td>\n",
       "      <td>Same</td>\n",
       "      <td>1</td>\n",
       "    </tr>\n",
       "    <tr>\n",
       "      <th>2</th>\n",
       "      <td>Rainy</td>\n",
       "      <td>Cold</td>\n",
       "      <td>High</td>\n",
       "      <td>Strong</td>\n",
       "      <td>Warm</td>\n",
       "      <td>Change</td>\n",
       "      <td>0</td>\n",
       "    </tr>\n",
       "    <tr>\n",
       "      <th>3</th>\n",
       "      <td>Sunny</td>\n",
       "      <td>Warm</td>\n",
       "      <td>High</td>\n",
       "      <td>Strong</td>\n",
       "      <td>Cool</td>\n",
       "      <td>Change</td>\n",
       "      <td>1</td>\n",
       "    </tr>\n",
       "  </tbody>\n",
       "</table>\n",
       "</div>"
      ],
      "text/plain": [
       "     Sky AirTemp Humidity    Wind Water Forecast  EnjoySport\n",
       "0  Sunny    Warm   Normal  Strong  Warm     Same           1\n",
       "1  Sunny    Warm     High  Strong  Warm     Same           1\n",
       "2  Rainy    Cold     High  Strong  Warm   Change           0\n",
       "3  Sunny    Warm     High  Strong  Cool   Change           1"
      ]
     },
     "execution_count": 46,
     "metadata": {},
     "output_type": "execute_result"
    }
   ],
   "source": [
    "data"
   ]
  },
  {
   "cell_type": "code",
   "execution_count": 75,
   "id": "aad86912",
   "metadata": {},
   "outputs": [
    {
     "name": "stdout",
     "output_type": "stream",
     "text": [
      "Most specific hypothesis: ['@', '@', '@', '@', '@', '@']\n",
      "Instance 1 is positive exapmle:\n",
      "['Sunny', 'Warm', 'Normal', 'Strong', 'Warm', 'Same']\n",
      "After instance 1 the hypothesis is:\n",
      "['Sunny', 'Warm', 'Normal', 'Strong', 'Warm', 'Same']\n",
      "\n",
      "Instance 2 is positive exapmle:\n",
      "['Sunny', 'Warm', 'High', 'Strong', 'Warm', 'Same']\n",
      "After instance 2 the hypothesis is:\n",
      "['Sunny', 'Warm', '?', 'Strong', 'Warm', 'Same']\n",
      "\n",
      "Instance 3 is negative exapmle:\n",
      "['Rainy', 'Cold', 'High', 'Strong', 'Warm', 'Change']\n",
      "After instance 3 the hypothesis is:\n",
      "['Sunny', 'Warm', '?', 'Strong', 'Warm', 'Same']\n",
      "\n",
      "Instance 4 is positive exapmle:\n",
      "['Sunny', 'Warm', 'High', 'Strong', 'Cool', 'Change']\n",
      "After instance 4 the hypothesis is:\n",
      "['Sunny', 'Warm', '?', 'Strong', '?', '?']\n",
      "\n"
     ]
    }
   ],
   "source": [
    "#Implementing Find-S Algorithm\n",
    "\n",
    "att=len(data.columns)\n",
    "h=['@']*(att-1) #Most Specific Hypothesis\n",
    "print(\"Most specific hypothesis:\",h)\n",
    "for i in range(len(data)):\n",
    "    x=list(data.iloc[i,0:att])\n",
    "    if(x[-1]==1):\n",
    "        print(f\"Instance {i+1} is positive exapmle:\")\n",
    "        print(x[:att-1])\n",
    "        for j in range(len(x)-1):\n",
    "            if h[j]=='@' or h[j]==x[j]:\n",
    "                h[j]=x[j]\n",
    "            elif h[j]!=x[j]:\n",
    "                h[j]='?'\n",
    "        print(f\"After instance {i+1} the hypothesis is:\")\n",
    "        print(h)\n",
    "        print()\n",
    "    else:\n",
    "        print(f\"Instance {i+1} is negative exapmle:\")\n",
    "        print(x[:att-1])\n",
    "        print(f\"After instance {i+1} the hypothesis is:\")\n",
    "        print(h)\n",
    "        print()"
   ]
  }
 ],
 "metadata": {
  "kernelspec": {
   "display_name": "Python 3 (ipykernel)",
   "language": "python",
   "name": "python3"
  },
  "language_info": {
   "codemirror_mode": {
    "name": "ipython",
    "version": 3
   },
   "file_extension": ".py",
   "mimetype": "text/x-python",
   "name": "python",
   "nbconvert_exporter": "python",
   "pygments_lexer": "ipython3",
   "version": "3.9.7"
  }
 },
 "nbformat": 4,
 "nbformat_minor": 5
}
