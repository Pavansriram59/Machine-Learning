{
 "cells": [
  {
   "cell_type": "code",
   "execution_count": 2,
   "metadata": {},
   "outputs": [],
   "source": [
    "from pandas import *\n",
    "import re"
   ]
  },
  {
   "cell_type": "code",
   "execution_count": 4,
   "metadata": {},
   "outputs": [
    {
     "data": {
      "text/html": [
       "<div>\n",
       "<style scoped>\n",
       "    .dataframe tbody tr th:only-of-type {\n",
       "        vertical-align: middle;\n",
       "    }\n",
       "\n",
       "    .dataframe tbody tr th {\n",
       "        vertical-align: top;\n",
       "    }\n",
       "\n",
       "    .dataframe thead th {\n",
       "        text-align: right;\n",
       "    }\n",
       "</style>\n",
       "<table border=\"1\" class=\"dataframe\">\n",
       "  <thead>\n",
       "    <tr style=\"text-align: right;\">\n",
       "      <th></th>\n",
       "      <th>Text</th>\n",
       "      <th>Class</th>\n",
       "    </tr>\n",
       "  </thead>\n",
       "  <tbody>\n",
       "    <tr>\n",
       "      <th>0</th>\n",
       "      <td>I love this sandwich</td>\n",
       "      <td>pos</td>\n",
       "    </tr>\n",
       "    <tr>\n",
       "      <th>1</th>\n",
       "      <td>this is an amazing place</td>\n",
       "      <td>pos</td>\n",
       "    </tr>\n",
       "    <tr>\n",
       "      <th>2</th>\n",
       "      <td>I feel very good about these beers</td>\n",
       "      <td>pos</td>\n",
       "    </tr>\n",
       "    <tr>\n",
       "      <th>3</th>\n",
       "      <td>this is my best work</td>\n",
       "      <td>pos</td>\n",
       "    </tr>\n",
       "    <tr>\n",
       "      <th>4</th>\n",
       "      <td>what an awesome view</td>\n",
       "      <td>pos</td>\n",
       "    </tr>\n",
       "  </tbody>\n",
       "</table>\n",
       "</div>"
      ],
      "text/plain": [
       "                                 Text Class\n",
       "0                I love this sandwich   pos\n",
       "1            this is an amazing place   pos\n",
       "2  I feel very good about these beers   pos\n",
       "3                this is my best work   pos\n",
       "4                what an awesome view   pos"
      ]
     },
     "execution_count": 4,
     "metadata": {},
     "output_type": "execute_result"
    }
   ],
   "source": [
    "data=read_csv(\"C:\\\\Users\\\\exam2\\\\Downloads\\\\text_classification.csv\")\n",
    "data.head()"
   ]
  },
  {
   "cell_type": "markdown",
   "metadata": {},
   "source": [
    "Building Vocabulary"
   ]
  },
  {
   "cell_type": "code",
   "execution_count": 6,
   "metadata": {},
   "outputs": [
    {
     "name": "stdout",
     "output_type": "stream",
     "text": [
      "The vocabulary is:\n",
      " 60 ['i', 'love', 'this', 'sandwich', 'is', 'an', 'amazing', 'place', 'feel', 'very', 'good', 'about', 'these', 'beers', 'my', 'best', 'work', 'what', 'awesome', 'view', 'do', 'not', 'like', 'restaurant', 'am', 'tired', 'of', 'stuff', \"can't\", 'deal', 'with', 'he', 'sworn', 'enemy', 'boss', 'horrible', 'donot', 'the', 'taste', 'juice', 'to', 'dance', 'sick', 'and', 'a', 'great', 'holiday', 'that', 'bad', 'locality', 'stay', 'we', 'will', 'have', 'fun', 'tomorrow', 'went', \"enemy's\", 'house', 'today']\n"
     ]
    }
   ],
   "source": [
    "N=len(data)\n",
    "pos=len(data[data[\"Class\"]==\"pos\"])\n",
    "neg=len(data[data[\"Class\"]==\"neg\"])\n",
    "# print(N)\n",
    "\n",
    "V,pos_class,neg_class=[],[],[]\n",
    "\n",
    "for i in data.index:\n",
    "    text=[s.strip().lower() for s in data.iloc[i,0].split()]\n",
    "    for word in text:\n",
    "        if word not in V:\n",
    "            V.append(word)\n",
    "    if data.iloc[i,1]==\"pos\":\n",
    "        pos_class.extend(text)\n",
    "    else:\n",
    "        neg_class.extend(text)\n",
    "\n",
    "Vn=len(V)\n",
    "# print(pos_class)\n",
    "# print(neg_class)\n",
    "print(\"The vocabulary is:\\n\",Vn,V)\n",
    "\n"
   ]
  },
  {
   "cell_type": "markdown",
   "metadata": {},
   "source": [
    "Finding occurence of words"
   ]
  },
  {
   "cell_type": "code",
   "execution_count": 26,
   "metadata": {},
   "outputs": [
    {
     "name": "stdout",
     "output_type": "stream",
     "text": [
      "0.5 0.5\n",
      "{'i': 3, 'love': 2, 'this': 4, 'sandwich': 1, 'is': 3, 'an': 3, 'amazing': 1, 'place': 2, 'feel': 1, 'very': 1, 'good': 2, 'about': 1, 'these': 1, 'beers': 1, 'my': 1, 'best': 1, 'work': 1, 'what': 2, 'awesome': 2, 'view': 1, 'to': 1, 'dance': 1, 'a': 1, 'great': 1, 'holiday': 1, 'we': 1, 'will': 1, 'have': 1, 'fun': 1, 'tomorrow': 1}\n",
      "\n",
      "{'i': 6, 'this': 5, 'is': 3, 'place': 1, 'my': 3, 'do': 1, 'not': 1, 'like': 2, 'restaurant': 1, 'am': 2, 'tired': 2, 'of': 3, 'stuff': 1, \"can't\": 1, 'deal': 1, 'with': 1, 'he': 1, 'sworn': 1, 'enemy': 1, 'boss': 1, 'horrible': 1, 'donot': 1, 'the': 1, 'taste': 1, 'juice': 1, 'to': 2, 'sick': 1, 'and': 1, 'a': 1, 'that': 1, 'bad': 1, 'locality': 1, 'stay': 1, 'went': 1, \"enemy's\": 1, 'house': 1, 'today': 1}\n"
     ]
    }
   ],
   "source": [
    "prior_pos=pos/N\n",
    "prior_neg=neg/N\n",
    "print(prior_pos,prior_neg)\n",
    "\n",
    "pos_index,neg_index={},{}\n",
    "for word in V:\n",
    "    for i in data.index:\n",
    "        if data.iloc[i,1]==\"pos\":\n",
    "            text=[s.strip().lower() for s in data.iloc[i,0].split()]\n",
    "            if word in text:\n",
    "                if word not in pos_index:\n",
    "                    pos_index[word]=1\n",
    "                else:\n",
    "                    pos_index[word]+=1\n",
    "        else:\n",
    "            text=[s.strip().lower() for s in data.iloc[i,0].split()]\n",
    "            if word in text:\n",
    "                if word not in neg_index:\n",
    "                    neg_index[word]=1\n",
    "                else:\n",
    "                    neg_index[word]+=1\n",
    "\n",
    "print(pos_index)\n",
    "print()\n",
    "print(neg_index)"
   ]
  },
  {
   "cell_type": "code",
   "execution_count": 14,
   "metadata": {},
   "outputs": [],
   "source": [
    "# pos_n,neg_n=0,0\n",
    "# for c in pos_index.values():\n",
    "#     pos_n+=c\n",
    "# for c in neg_index.values():\n",
    "#     neg_n+=c\n",
    "# print(pos_n,neg_n)"
   ]
  },
  {
   "cell_type": "markdown",
   "metadata": {},
   "source": [
    "Finding Probabilities of postive and negative examples"
   ]
  },
  {
   "cell_type": "code",
   "execution_count": 27,
   "metadata": {},
   "outputs": [
    {
     "name": "stdout",
     "output_type": "stream",
     "text": [
      "i --> 0.038461538461538464\n",
      "love --> 0.028846153846153848\n",
      "this --> 0.04807692307692308\n",
      "sandwich --> 0.019230769230769232\n",
      "is --> 0.038461538461538464\n",
      "an --> 0.038461538461538464\n",
      "amazing --> 0.019230769230769232\n",
      "place --> 0.028846153846153848\n",
      "feel --> 0.019230769230769232\n",
      "very --> 0.019230769230769232\n",
      "good --> 0.028846153846153848\n",
      "about --> 0.019230769230769232\n",
      "these --> 0.019230769230769232\n",
      "beers --> 0.019230769230769232\n",
      "my --> 0.019230769230769232\n",
      "best --> 0.019230769230769232\n",
      "work --> 0.019230769230769232\n",
      "what --> 0.028846153846153848\n",
      "awesome --> 0.028846153846153848\n",
      "view --> 0.019230769230769232\n",
      "do --> 0.009615384615384616\n",
      "not --> 0.009615384615384616\n",
      "like --> 0.009615384615384616\n",
      "restaurant --> 0.009615384615384616\n",
      "am --> 0.009615384615384616\n",
      "tired --> 0.009615384615384616\n",
      "of --> 0.009615384615384616\n",
      "stuff --> 0.009615384615384616\n",
      "can't --> 0.009615384615384616\n",
      "deal --> 0.009615384615384616\n",
      "with --> 0.009615384615384616\n",
      "he --> 0.009615384615384616\n",
      "sworn --> 0.009615384615384616\n",
      "enemy --> 0.009615384615384616\n",
      "boss --> 0.009615384615384616\n",
      "horrible --> 0.009615384615384616\n",
      "donot --> 0.009615384615384616\n",
      "the --> 0.009615384615384616\n",
      "taste --> 0.009615384615384616\n",
      "juice --> 0.009615384615384616\n",
      "to --> 0.019230769230769232\n",
      "dance --> 0.019230769230769232\n",
      "sick --> 0.009615384615384616\n",
      "and --> 0.009615384615384616\n",
      "a --> 0.019230769230769232\n",
      "great --> 0.019230769230769232\n",
      "holiday --> 0.019230769230769232\n",
      "that --> 0.009615384615384616\n",
      "bad --> 0.009615384615384616\n",
      "locality --> 0.009615384615384616\n",
      "stay --> 0.009615384615384616\n",
      "we --> 0.019230769230769232\n",
      "will --> 0.019230769230769232\n",
      "have --> 0.019230769230769232\n",
      "fun --> 0.019230769230769232\n",
      "tomorrow --> 0.019230769230769232\n",
      "went --> 0.009615384615384616\n",
      "enemy's --> 0.009615384615384616\n",
      "house --> 0.009615384615384616\n",
      "today --> 0.009615384615384616\n"
     ]
    }
   ],
   "source": [
    "prob_pos,prob_neg={},{}\n",
    "for word in V:\n",
    "    if word in pos_index.keys():\n",
    "        prob=(pos_index[word]+1)/(len(pos_class)+Vn)\n",
    "        prob_pos[word]=prob\n",
    "    else:\n",
    "        prob=(1)/(len(pos_class)+Vn)\n",
    "        prob_pos[word]=prob\n",
    "        \n",
    "    \n",
    "for word in V:\n",
    "    if word in neg_index.keys():\n",
    "        prob=(neg_index[word]+1)/(len(neg_class)+Vn)\n",
    "        prob_neg[word]=prob\n",
    "    else:\n",
    "        prob=(1)/(len(neg_class)+Vn)\n",
    "        prob_neg[word]=prob\n",
    "        \n",
    "for i,j in prob_pos.items():\n",
    "    print(i,\"-->\",j)"
   ]
  },
  {
   "cell_type": "markdown",
   "metadata": {},
   "source": [
    "Classifying the test data"
   ]
  },
  {
   "cell_type": "code",
   "execution_count": 30,
   "metadata": {},
   "outputs": [
    {
     "name": "stdout",
     "output_type": "stream",
     "text": [
      "1.5806290514602924e-12\n",
      "9.850614112017977e-12\n",
      "It belongs to negative class\n"
     ]
    }
   ],
   "source": [
    "# test=input(\"Enter the test data\")\n",
    "test=\"we went to enemy's house today\"\n",
    "testProb_pos=prior_pos\n",
    "testProb_neg=prior_neg\n",
    "\n",
    "for word in test.split():\n",
    "    if word in prob_pos.keys():\n",
    "        testProb_pos*=prob_pos[word]\n",
    "        \n",
    "for word in test.split():\n",
    "    if word in prob_neg.keys():\n",
    "        testProb_neg*=prob_neg[word]\n",
    "        \n",
    "print(testProb_pos)\n",
    "print(testProb_neg)\n",
    "\n",
    "if(testProb_neg>testProb_pos):\n",
    "    print('It belongs to negative class')\n",
    "else:\n",
    "    print('It belongs to positive class')"
   ]
  }
 ],
 "metadata": {
  "kernelspec": {
   "display_name": "Python 3",
   "language": "python",
   "name": "python3"
  },
  "language_info": {
   "codemirror_mode": {
    "name": "ipython",
    "version": 3
   },
   "file_extension": ".py",
   "mimetype": "text/x-python",
   "name": "python",
   "nbconvert_exporter": "python",
   "pygments_lexer": "ipython3",
   "version": "3.8.5"
  }
 },
 "nbformat": 4,
 "nbformat_minor": 2
}
