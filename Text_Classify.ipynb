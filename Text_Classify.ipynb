{
 "cells": [
  {
   "cell_type": "code",
   "execution_count": 1,
   "metadata": {},
   "outputs": [],
   "source": [
    "from pandas import *\n",
    "import re"
   ]
  },
  {
   "cell_type": "code",
   "execution_count": 2,
   "metadata": {},
   "outputs": [
    {
     "data": {
      "text/html": [
       "<div>\n",
       "<style scoped>\n",
       "    .dataframe tbody tr th:only-of-type {\n",
       "        vertical-align: middle;\n",
       "    }\n",
       "\n",
       "    .dataframe tbody tr th {\n",
       "        vertical-align: top;\n",
       "    }\n",
       "\n",
       "    .dataframe thead th {\n",
       "        text-align: right;\n",
       "    }\n",
       "</style>\n",
       "<table border=\"1\" class=\"dataframe\">\n",
       "  <thead>\n",
       "    <tr style=\"text-align: right;\">\n",
       "      <th></th>\n",
       "      <th>Text</th>\n",
       "      <th>Class</th>\n",
       "    </tr>\n",
       "  </thead>\n",
       "  <tbody>\n",
       "    <tr>\n",
       "      <th>0</th>\n",
       "      <td>I love this sandwich</td>\n",
       "      <td>pos</td>\n",
       "    </tr>\n",
       "    <tr>\n",
       "      <th>1</th>\n",
       "      <td>This is an amazing place</td>\n",
       "      <td>pos</td>\n",
       "    </tr>\n",
       "    <tr>\n",
       "      <th>2</th>\n",
       "      <td>I feel very good about these beers</td>\n",
       "      <td>pos</td>\n",
       "    </tr>\n",
       "    <tr>\n",
       "      <th>3</th>\n",
       "      <td>This is my best work</td>\n",
       "      <td>pos</td>\n",
       "    </tr>\n",
       "    <tr>\n",
       "      <th>4</th>\n",
       "      <td>What an awesome view</td>\n",
       "      <td>pos</td>\n",
       "    </tr>\n",
       "  </tbody>\n",
       "</table>\n",
       "</div>"
      ],
      "text/plain": [
       "                                 Text Class\n",
       "0                I love this sandwich   pos\n",
       "1            This is an amazing place   pos\n",
       "2  I feel very good about these beers   pos\n",
       "3                This is my best work   pos\n",
       "4                What an awesome view   pos"
      ]
     },
     "execution_count": 2,
     "metadata": {},
     "output_type": "execute_result"
    }
   ],
   "source": [
    "data=read_csv(\"D:\\\\Programming\\\\VS python\\ML\\\\naivetext.csv\")\n",
    "data.head()"
   ]
  },
  {
   "cell_type": "code",
   "execution_count": 15,
   "metadata": {},
   "outputs": [
    {
     "name": "stdout",
     "output_type": "stream",
     "text": [
      "18\n",
      "['i', 'love', 'this', 'sandwich', 'this', 'is', 'an', 'amazing', 'place', 'i', 'feel', 'very', 'good', 'about', 'these', 'beers', 'this', 'is', 'my', 'best', 'work', 'what', 'an', 'awesome', 'view', 'this', 'is', 'an', 'awesome', 'place', 'i', 'love', 'to', 'dance', 'what', 'a', 'great', 'holiday', 'we', 'will', 'have', 'good', 'fun', 'tomorrow']\n",
      "['i', 'do', 'not', 'like', 'this', 'restaurant', 'i', 'am', 'tired', 'of', 'this', 'stuff', 'i', \"can't\", 'deal', 'with', 'this', 'he', 'is', 'my', 'sworn', 'enemy', 'my', 'boss', 'is', 'horrible', 'i', 'do', 'not', 'like', 'the', 'taste', 'of', 'this', 'juice', 'i', 'am', 'sick', 'and', 'tired', 'of', 'this', 'place', 'that', 'is', 'a', 'bad', 'locality', 'to', 'stay', 'i', 'went', 'to', 'my', \"enemy's\", 'house', 'today']\n",
      "The vocabulary is:\n",
      " 59 ['i', 'love', 'this', 'sandwich', 'is', 'an', 'amazing', 'place', 'feel', 'very', 'good', 'about', 'these', 'beers', 'my', 'best', 'work', 'what', 'awesome', 'view', 'do', 'not', 'like', 'restaurant', 'am', 'tired', 'of', 'stuff', \"can't\", 'deal', 'with', 'he', 'sworn', 'enemy', 'boss', 'horrible', 'the', 'taste', 'juice', 'to', 'dance', 'sick', 'and', 'a', 'great', 'holiday', 'that', 'bad', 'locality', 'stay', 'we', 'will', 'have', 'fun', 'tomorrow', 'went', \"enemy's\", 'house', 'today']\n"
     ]
    }
   ],
   "source": [
    "N=len(data)\n",
    "pos=len(data[data[\"Class\"]==\"pos\"])\n",
    "neg=len(data[data[\"Class\"]==\"neg\"])\n",
    "# print(N)\n",
    "\n",
    "V,pos_class,neg_class=[],[],[]\n",
    "\n",
    "for i in data.index:\n",
    "    text=[s.strip().lower() for s in data.iloc[i,0].split()]\n",
    "    for word in text:\n",
    "        if word not in V:\n",
    "            V.append(word)\n",
    "    if data.iloc[i,1]==\"pos\":\n",
    "        pos_class.extend(text)\n",
    "    else:\n",
    "        neg_class.extend(text)\n",
    "\n",
    "Vn=len(V)\n",
    "print(pos_class)\n",
    "print(neg_class)\n",
    "print(\"The vocabulary is:\\n\",Vn,V)\n",
    "\n"
   ]
  },
  {
   "cell_type": "code",
   "execution_count": 35,
   "metadata": {},
   "outputs": [
    {
     "name": "stdout",
     "output_type": "stream",
     "text": [
      "0.5 0.5\n",
      "{'i': 3, 'love': 2, 'this': 4, 'sandwich': 1, 'is': 3, 'an': 3, 'amazing': 1, 'place': 2, 'feel': 1, 'very': 1, 'good': 2, 'about': 1, 'these': 1, 'beers': 1, 'my': 1, 'best': 1, 'work': 1, 'what': 2, 'awesome': 2, 'view': 1, 'to': 1, 'dance': 1, 'a': 1, 'great': 1, 'holiday': 1, 'we': 1, 'will': 1, 'have': 1, 'fun': 1, 'tomorrow': 1}\n"
     ]
    }
   ],
   "source": [
    "prob_pos=pos/N\n",
    "prob_neg=neg/N\n",
    "print(prob_pos,prob_neg)\n",
    "\n",
    "pos_index,neg_index={},{}\n",
    "for word in V:\n",
    "    for i in data.index:\n",
    "        if data.iloc[i,1]==\"pos\":\n",
    "            text=[s.strip().lower() for s in data.iloc[i,0].split()]\n",
    "            if word in text:\n",
    "                if word not in pos_index:\n",
    "                    pos_index[word]=1\n",
    "                else:\n",
    "                    pos_index[word]+=1\n",
    "        else:\n",
    "            text=[s.strip().lower() for s in data.iloc[i,0].split()]\n",
    "            if word in text:\n",
    "                if word not in neg_index:\n",
    "                    neg_index[word]=1\n",
    "                else:\n",
    "                    neg_index[word]+=1\n",
    "\n",
    "print(pos_index)"
   ]
  },
  {
   "cell_type": "code",
   "execution_count": 32,
   "metadata": {},
   "outputs": [
    {
     "name": "stdout",
     "output_type": "stream",
     "text": [
      "44 57\n"
     ]
    }
   ],
   "source": [
    "# pos_n,neg_n=0,0\n",
    "# for c in pos_index.values():\n",
    "#     pos_n+=c\n",
    "# for c in neg_index.values():\n",
    "#     neg_n+=c\n",
    "# print(pos_n,neg_n)"
   ]
  },
  {
   "cell_type": "code",
   "execution_count": 36,
   "metadata": {},
   "outputs": [
    {
     "ename": "KeyError",
     "evalue": "'do'",
     "output_type": "error",
     "traceback": [
      "\u001b[1;31m---------------------------------------------------------------------------\u001b[0m",
      "\u001b[1;31mKeyError\u001b[0m                                  Traceback (most recent call last)",
      "\u001b[1;32md:\\Programming\\VS python\\ML\\Text_Classify.ipynb Cell 6\u001b[0m in \u001b[0;36m3\n\u001b[0;32m      <a href='vscode-notebook-cell:/d%3A/Programming/VS%20python/ML/Text_Classify.ipynb#W6sZmlsZQ%3D%3D?line=0'>1</a>\u001b[0m prob_pos\u001b[39m=\u001b[39m{}\n\u001b[0;32m      <a href='vscode-notebook-cell:/d%3A/Programming/VS%20python/ML/Text_Classify.ipynb#W6sZmlsZQ%3D%3D?line=1'>2</a>\u001b[0m \u001b[39mfor\u001b[39;00m word \u001b[39min\u001b[39;00m V:\n\u001b[1;32m----> <a href='vscode-notebook-cell:/d%3A/Programming/VS%20python/ML/Text_Classify.ipynb#W6sZmlsZQ%3D%3D?line=2'>3</a>\u001b[0m     prob\u001b[39m=\u001b[39m(pos_index[word]\u001b[39m+\u001b[39m\u001b[39m1\u001b[39m)\u001b[39m/\u001b[39m(\u001b[39mlen\u001b[39m(pos_class)\u001b[39m+\u001b[39mVn)\n\u001b[0;32m      <a href='vscode-notebook-cell:/d%3A/Programming/VS%20python/ML/Text_Classify.ipynb#W6sZmlsZQ%3D%3D?line=3'>4</a>\u001b[0m     prob_pos[word]\u001b[39m=\u001b[39mprob\n\u001b[0;32m      <a href='vscode-notebook-cell:/d%3A/Programming/VS%20python/ML/Text_Classify.ipynb#W6sZmlsZQ%3D%3D?line=4'>5</a>\u001b[0m \u001b[39mprint\u001b[39m(prob_pos)\n",
      "\u001b[1;31mKeyError\u001b[0m: 'do'"
     ]
    }
   ],
   "source": [
    "prob_pos={}\n",
    "for word in V:\n",
    "    prob=(pos_index[word]+1)/(len(pos_class)+Vn)\n",
    "    prob_pos[word]=prob\n",
    "print(prob_pos)"
   ]
  }
 ],
 "metadata": {
  "kernelspec": {
   "display_name": "Python 3",
   "language": "python",
   "name": "python3"
  },
  "language_info": {
   "codemirror_mode": {
    "name": "ipython",
    "version": 3
   },
   "file_extension": ".py",
   "mimetype": "text/x-python",
   "name": "python",
   "nbconvert_exporter": "python",
   "pygments_lexer": "ipython3",
   "version": "3.9.13"
  },
  "orig_nbformat": 4
 },
 "nbformat": 4,
 "nbformat_minor": 2
}
