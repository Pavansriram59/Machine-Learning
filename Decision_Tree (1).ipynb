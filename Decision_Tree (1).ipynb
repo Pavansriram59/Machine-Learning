{
 "cells": [
  {
   "cell_type": "code",
   "execution_count": 14,
   "id": "bdd9a55c",
   "metadata": {},
   "outputs": [],
   "source": [
    "from pandas import *\n",
    "from math import *"
   ]
  },
  {
   "cell_type": "code",
   "execution_count": 15,
   "id": "68f15a5d",
   "metadata": {},
   "outputs": [
    {
     "data": {
      "text/html": [
       "<div>\n",
       "<style scoped>\n",
       "    .dataframe tbody tr th:only-of-type {\n",
       "        vertical-align: middle;\n",
       "    }\n",
       "\n",
       "    .dataframe tbody tr th {\n",
       "        vertical-align: top;\n",
       "    }\n",
       "\n",
       "    .dataframe thead th {\n",
       "        text-align: right;\n",
       "    }\n",
       "</style>\n",
       "<table border=\"1\" class=\"dataframe\">\n",
       "  <thead>\n",
       "    <tr style=\"text-align: right;\">\n",
       "      <th></th>\n",
       "      <th>day</th>\n",
       "      <th>outlook</th>\n",
       "      <th>temp</th>\n",
       "      <th>humidity</th>\n",
       "      <th>wind</th>\n",
       "      <th>play</th>\n",
       "    </tr>\n",
       "  </thead>\n",
       "  <tbody>\n",
       "    <tr>\n",
       "      <th>0</th>\n",
       "      <td>D1</td>\n",
       "      <td>Sunny</td>\n",
       "      <td>Hot</td>\n",
       "      <td>High</td>\n",
       "      <td>Weak</td>\n",
       "      <td>No</td>\n",
       "    </tr>\n",
       "    <tr>\n",
       "      <th>1</th>\n",
       "      <td>D2</td>\n",
       "      <td>Sunny</td>\n",
       "      <td>Hot</td>\n",
       "      <td>High</td>\n",
       "      <td>Strong</td>\n",
       "      <td>No</td>\n",
       "    </tr>\n",
       "    <tr>\n",
       "      <th>2</th>\n",
       "      <td>D3</td>\n",
       "      <td>Overcast</td>\n",
       "      <td>Hot</td>\n",
       "      <td>High</td>\n",
       "      <td>Weak</td>\n",
       "      <td>Yes</td>\n",
       "    </tr>\n",
       "    <tr>\n",
       "      <th>3</th>\n",
       "      <td>D4</td>\n",
       "      <td>Rain</td>\n",
       "      <td>Mild</td>\n",
       "      <td>High</td>\n",
       "      <td>Weak</td>\n",
       "      <td>Yes</td>\n",
       "    </tr>\n",
       "    <tr>\n",
       "      <th>4</th>\n",
       "      <td>D5</td>\n",
       "      <td>Rain</td>\n",
       "      <td>Cool</td>\n",
       "      <td>Normal</td>\n",
       "      <td>Weak</td>\n",
       "      <td>Yes</td>\n",
       "    </tr>\n",
       "  </tbody>\n",
       "</table>\n",
       "</div>"
      ],
      "text/plain": [
       "  day   outlook  temp humidity    wind play\n",
       "0  D1     Sunny   Hot     High    Weak   No\n",
       "1  D2     Sunny   Hot     High  Strong   No\n",
       "2  D3  Overcast   Hot     High    Weak  Yes\n",
       "3  D4      Rain  Mild     High    Weak  Yes\n",
       "4  D5      Rain  Cool   Normal    Weak  Yes"
      ]
     },
     "execution_count": 15,
     "metadata": {},
     "output_type": "execute_result"
    }
   ],
   "source": [
    "data=read_csv(\"C:\\\\Users\\\\exam2\\\\Downloads\\\\play_tennis.csv\")\n",
    "data.head()"
   ]
  },
  {
   "cell_type": "code",
   "execution_count": 36,
   "id": "373c14e4",
   "metadata": {},
   "outputs": [
    {
     "name": "stdout",
     "output_type": "stream",
     "text": [
      "The entropy of training examples:\n",
      "0.9402859586706311\n"
     ]
    }
   ],
   "source": [
    "def Entropy(data,N):\n",
    "    d=dict(data[\"play\"].value_counts())\n",
    "    print(\"The entropy of training examples:\")\n",
    "    yes,no=d[\"Yes\"]/N,d[\"No\"]/N\n",
    "    S=-(yes*log2(yes))-(no*log2(no))\n",
    "    return S\n",
    "N=len(data)\n",
    "S=Entropy(data,N)\n",
    "print(S)"
   ]
  },
  {
   "cell_type": "code",
   "execution_count": 50,
   "id": "8d4989e7",
   "metadata": {},
   "outputs": [
    {
     "name": "stdout",
     "output_type": "stream",
     "text": [
      "{('Overcast', 'Yes'): 4, ('Rain', 'Yes'): 3, ('Sunny', 'No'): 3, ('Rain', 'No'): 2, ('Sunny', 'Yes'): 2}\n",
      "{('Mild', 'Yes'): 4, ('Cool', 'Yes'): 3, ('Hot', 'No'): 2, ('Hot', 'Yes'): 2, ('Mild', 'No'): 2, ('Cool', 'No'): 1}\n",
      "{('Normal', 'Yes'): 6, ('High', 'No'): 4, ('High', 'Yes'): 3, ('Normal', 'No'): 1}\n",
      "{('Weak', 'Yes'): 6, ('Strong', 'No'): 3, ('Strong', 'Yes'): 3, ('Weak', 'No'): 2}\n"
     ]
    }
   ],
   "source": [
    "# def EntropyAttr(data)\n",
    "Atrr={}\n",
    "\n",
    "for i in data.columns[1:-1]:\n",
    "    d=dict((data[[i,\"play\"]].value_counts()))\n",
    "    print(d)\n",
    "# for i,j in Atrr.items():\n",
    "#     print(i,j)"
   ]
  }
 ],
 "metadata": {
  "kernelspec": {
   "display_name": "Python 3 (ipykernel)",
   "language": "python",
   "name": "python3"
  },
  "language_info": {
   "codemirror_mode": {
    "name": "ipython",
    "version": 3
   },
   "file_extension": ".py",
   "mimetype": "text/x-python",
   "name": "python",
   "nbconvert_exporter": "python",
   "pygments_lexer": "ipython3",
   "version": "3.9.7"
  }
 },
 "nbformat": 4,
 "nbformat_minor": 5
}
